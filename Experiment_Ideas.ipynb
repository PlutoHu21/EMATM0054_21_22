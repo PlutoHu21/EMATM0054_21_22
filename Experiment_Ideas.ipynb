{
  "nbformat": 4,
  "nbformat_minor": 0,
  "metadata": {
    "colab": {
      "name": "Experiment Ideas",
      "provenance": [],
      "authorship_tag": "ABX9TyPddibKYPlfFVnDBUjLScZH",
      "include_colab_link": true
    },
    "kernelspec": {
      "name": "python3",
      "display_name": "Python 3"
    },
    "language_info": {
      "name": "python"
    }
  },
  "cells": [
    {
      "cell_type": "markdown",
      "metadata": {
        "id": "view-in-github",
        "colab_type": "text"
      },
      "source": [
        "<a href=\"https://colab.research.google.com/github/paulodowd/EMATM0053_21_22/blob/main/Experiment_Ideas.ipynb\" target=\"_parent\"><img src=\"https://colab.research.google.com/assets/colab-badge.svg\" alt=\"Open In Colab\"/></a>"
      ]
    },
    {
      "cell_type": "markdown",
      "metadata": {
        "id": "8BwznbJMo0jT"
      },
      "source": [
        ""
      ]
    },
    {
      "cell_type": "markdown",
      "metadata": {
        "id": "mHSTRLPUo1q0"
      },
      "source": [
        "# Project Ideas\n",
        "\n"
      ]
    },
    {
      "cell_type": "markdown",
      "metadata": {
        "id": "6QY5fd73o7Xi"
      },
      "source": [
        "# 3Pi+ Robot\n",
        "\n",
        "## Key Factors for Return-Home Performance (Kinematic Error)\n",
        "\n",
        "In summary, you should design a focused experiment to evaluate a hypothesis concerning a key factor that effects the ablity for your robot to return to origin after a period of travel. This experiment could build upon the line challenge you solved for Formative Assessment 1.\n",
        "\n",
        "This area of investigation has many potential aspects. We can consider the idea that a robotic system is split across the following domains:\n",
        "\n",
        "- Task: The requirements generally understood and set by human roboticists.\n",
        "- Software: The representation and transformation of knowledge and behaviours.\n",
        "- Hardware: The phyiscal and computational capability afforded by electronics, mechianisms and physical components.\n",
        "- Environment: The task-environment of the robot, which can be structured, unstructured, etc.\n",
        "\n",
        "Accordingly, the following examples (not complete or definitive) might be areas which significantly effect return-home performance. You may select one to assert and test a focused hypothesis, or pursue your own:\n",
        "\n",
        "- Task: Examples include, lines of varied difficulty, or containing biased features, set as a task requirement determined by a human. You may wish to characterise the performance, limits and failure modes of a given robotic solution against varied task configurations.\n",
        "- Software: Examples include, various strategies for motion control or behavioural control against line challenges; the key parameters for kinematics that govern error within the kinematic calculations.\n",
        "- Hardware: Examples include, you may remove the rubber from wheels, work with low-voltage batteries, or experiment with different combinations/approaches to the line sensors.\n",
        "- Environment: Examples include, different environment surfaces (friction, slope,etc), ambient light levels, etc.\n",
        "\n",
        "## A Comparision of Controller types for Line Following\n",
        "\n",
        "This study should compare two different approaches to the control of the 3Pi+ robot to complete the line following task. Careful consideration should be made concerning the rationale and justification for the line used.  Whilst overall and final evaluation metrics such as \"time to complete\" and \"percentage failures\" are useful, this investigation should seek to identify deeper causes of differences between robot controllers.  Therefore, it is recommended to give thought to how to collect data during (across time) the line following behaviour, and what data should be collected.  \n",
        "\n",
        "## Evaluation of PID Control for the 3Pi+ Wheels\n",
        "\n",
        "Within the context of line following PID control of the wheel speeds offers some advantages.  Two of these are:\n",
        "- stable slow wheels speeds are attainable with a PI controller.\n",
        "- smooth transit around curves is attainable with a PI controller. \n",
        "\n",
        "This investigation will design a study to investigate optimal settings for the PID controllers for left and right wheels, through the careful design of an experiment task/environment.  For a given set of PID gains, the task/environment should be explored for the limits of its operation.  For a given task/environment, PID gains should be explored to maximise desirable motion qualities and minimise undesirable qualities.  Careful thought should be given to how and what data to collect from the robot, so that insight can be gained on the performance across time (during operation).  This study should aim to demonstrate a good understanding of the operation of the PID controller. \n",
        "\n",
        "\n",
        "## Comparison of Speed Estimation Approaches\n",
        "\n",
        "In the labsheets, an estimate of the rotational velocity of the wheels is made within `loop()`.  This is a loosely timed process.  There are two alternative approaches to estimating the rotational speed of the wheels.  These are:\n",
        "- A calculation of wheel speed within the encoder ISR (unknown time interval, known distance)\n",
        "- A calculation of wheel speed within a Timer ISR (known time internval, unknown distance)\n",
        "\n",
        "These three methods present different advantages and disadvantages.  The scope of this study is to hypothesise on the differences and to carefullly consider a task/environment where they can be comparatively evaluated.  Further work includes a method for the 3Pi+ to select which measurement method is being used, or to combine the different measurements in a proven useful way.\n",
        "\n",
        "## Mapping/Object Characterisation using the Bump Sensors\n",
        "\n",
        "The bump sensors on the 3Pi+ present an opportunity for your robot to construct a map of objects encountered.  As the robot moves, it is able to approximate it's location using odometry, and so log obstructions into a map.  However, bumping into obstructions is likely to cause wheel slip and odometric error.  \n",
        "\n",
        "This experiment will investigate the quantity of odometric error that occurs when the robot collides with an obstacle.  Follow on work will then attempt to reduce this error, within the context of a task.  Suitable tasks are both mapping and object characterisation:\n",
        "\n",
        "- mapping: the robot should navigate the environment and map obstructions.  The evaluation in this context is likely to concern the study of error accruing over time, and how this effects mapping performance.  The study should make a comparison between a baseline and improved solution, where an improvment is made based on a stated theory, prediction or hypothesis. \n",
        "- obstacle characterisation: as a more focused study, your robot should circumnavigate an obstruction to map the features and shape.  This study may make an evaluation between a known ground-truth of the shape of the object and what was mapped.  Alternatively, this study may evaluate different motion strategies and the limits of their operation (e.g., problematic obstructions, and how/why).\n",
        "\n",
        "## IR Phototaxis\n",
        "\n",
        "The 3Pi+ bump sensors can be used to measure ambient light levels, with a clear change in signal towards greater intensity sources of infra-red light.  However,the bump sensors are located very close together and so their utility as a pair to discern the direction of the IR source is weak.  Therefore, identifying the location of an IR source requires the robot to move.  \n",
        "\n",
        "This investigation requires some thought concerning the context or task set for the robot, and therefore how the bump sensors can be usefully investigated to track or locate an IR source.  \n",
        "\n",
        "## Leader-Follower Motion Control\n",
        "\n",
        "The 3Pi+ bump sensors can give continuous readings (rather than yes/no, on/off).  Using two 3Pi+ robots, their task is for one robot to lead in a specific motion, and for the second robot to follow by maintaining bump-sensor contact from behind.  The continuous readings from the bump-sensors should allow one robot to follow another without pushing the leading-robot off course.  Central challenges and opportunities in this study are:\n",
        "- The leader-robot should be assigned a desired motion, and not deviate.  Thought should be given as to how the actual motion and desired motion of the leader can be evaluated.\n",
        "- The follower-robot should maintain contact but not bump the leader-robot off course.  Thought should be given towards how contact but not bumping can be measured and evaluated via the development of a metric.\n",
        "- The leader-robot should demonstrate stable motion.  Where this is solved easily, the environment can be modified to investigate the stability of the leader-follower relationship around corners and turns of different types.  The motion of the leader should be justified and given rationale within the context of intelligent experimentation with your robot.\n",
        "- A focused study can be made on how well the follower is able to follow the exact path of the leader, with the potential to hypothesise and demonstrate improvements.\n",
        "\n",
        "\n",
        "## Motion Control for Slippery Wheels/Surfaces\n",
        "\n",
        "In summary, it is possible to remove the rubber from the wheels of the 3Pi+, which will effect the error accrued in kinematics on certain surfaces (e.g., glass, hardwood floors). An alternative approach is to present different surfaces to the robot (e.g., a rubber surface, foil surface, plastic surface, etc).\n",
        "\n",
        "This investigation focuses on the idea that wheels will slip on shiny or smooth surfaces. This area of experimentation should characterise the performance of your robot and then develop a new motion strategy to improve the performance under varied conditions. \n",
        "\n",
        "\n",
        "## Advanced Bump-Sensor Operation\n",
        "\n",
        "The 3Pi+ features bump sensors which we have operated with blocking code (e.g., in the labsheets, the main thread of our code waits for the bump sensors to discharge).  Generally, blocking code is undesirable.  \n",
        "\n",
        "It is possible to utilise a Timer peripheral and interrupt to read the bump sensors.  This would approximate reading the bump sensors as a \"background task\".  An advantage to this operation would be that the bump sensors could be polled quickly and continuously by the ISR, operating them through the necessary stages of their read.  This should allow all sensors to independently present their read time, rather than waiting for the slowest sensor to complete.  However, it is likely that an ISR may compromise the computational time remaining for the main thread of the 3Pi+ operation.\n",
        "\n",
        "This study will carefully consider a task and context where quick reads of the line sensors are necessary.  This study will investigate a Timer driven read of the line sensors and characterise the performance.  Evalulated against the task and context, recommendations will be made on the suitability of the technique, and any advantages/disadvantages found.  \n",
        "\n",
        "## Autonomous Optimisation of Motion Parameters\n",
        "\n",
        "In summary, it is possible for the 3Pi+ to collect data on it's own quality of movement.  This information can come from multiple sources within the robotic system, or by using exteroceptive sensors (e.g., kinematics/odometry, control feedback signals, line following, battery usage, etc).  This information can be used to develop and algorithm to optimise motion parameters.  Motion parameters could include PID gains, or the shaping of velocity profiles (e.g., acceleration and/or timing parameters).  \n",
        "\n",
        "This study should first identify a desirable quality of a given motion, and then hypothesise on how key parameters might be adjusted autonomously towards this goal.  It it likely that some thought will need to be given to the experiment method so that a human is not implicated in the many repeated iterations of the algorithm during it's optimisation process.   \n",
        "\n",
        "## Identification and/or Adaptation to slippery surfaces using the IMU\n",
        "\n",
        "The accelerometer and gyro on board the 3Pi+ allow the robot to sense external changes to it's pose (e.g., not commanded by the robot itself).  This study will investigate how the IMU can be used to detect either:\n",
        "- when the wheels are slipping\n",
        "- when the surface has changed\n",
        "with the central idea of detecting a discrepancy between commanded motion and outcome.\n",
        "\n",
        "This study will require some preliminary work to identify the utility of either the gyro or accelerometer, or potentially both in combination.  This study will require some calibration routine for the sensors and sensor processing.  Careful consideration should be given to how an experiment methodology can be made focused and concise.  \n",
        "\n",
        "## Ferrous Object Discovery using a Magnetometer\n",
        "\n",
        "The 3Pi+ has a magnetometer sensor. These sensors are able to detect the earths magnetic field to provide a sense of orientation. However, Magnetometers are notoriously noisy sensors, with error induced from local ferrous objects (e.g., table legs). \n",
        "\n",
        "This experiment works from a general hypothesis that it should be possible to disambiguate induced error from local ferrous objects against prior readings of the earths magnetic field. \n",
        "\n",
        "Your experiment should refine this hypothesis further, presenting good emperical evidence for how this can be achieved, and within what bounds. You may wish to demonstrate the performance of this unusual application of a magnetometer by having your robot able to discover and orientate itself toward a ferrous object."
      ]
    },
    {
      "cell_type": "markdown",
      "metadata": {
        "id": "y5HbsQ-lo8_S"
      },
      "source": [
        "\n",
        "\n",
        "## Webots"
      ]
    },
    {
      "cell_type": "code",
      "metadata": {
        "id": "lEktFM4Loz6v"
      },
      "source": [
        ""
      ],
      "execution_count": null,
      "outputs": []
    }
  ]
}