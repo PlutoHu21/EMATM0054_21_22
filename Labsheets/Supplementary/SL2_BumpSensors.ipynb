{
  "nbformat": 4,
  "nbformat_minor": 0,
  "metadata": {
    "colab": {
      "name": "SL2_BumpSensors",
      "provenance": [],
      "collapsed_sections": [],
      "authorship_tag": "ABX9TyNVbCDBB/KWKrq5f/S5ir+Y",
      "include_colab_link": true
    },
    "kernelspec": {
      "name": "python3",
      "display_name": "Python 3"
    },
    "language_info": {
      "name": "python"
    }
  },
  "cells": [
    {
      "cell_type": "markdown",
      "metadata": {
        "id": "view-in-github",
        "colab_type": "text"
      },
      "source": [
        "<a href=\"https://colab.research.google.com/github/paulodowd/EMATM0053_21_22/blob/main/SL2_BumpSensors.ipynb\" target=\"_parent\"><img src=\"https://colab.research.google.com/assets/colab-badge.svg\" alt=\"Open In Colab\"/></a>"
      ]
    },
    {
      "cell_type": "markdown",
      "metadata": {
        "id": "Pgwc9GPCLihn"
      },
      "source": [
        "# Supplementary Labsheet 2: 3Pi+ Bump Sensors\n",
        "\n",
        "<p align=\"center\">\n",
        "<img width=\"50%\" src=\"https://github.com/paulodowd/EMATM0053_21_22/blob/main/images/3PI_BumpSensors.png?raw=true\">\n",
        "</p>\n",
        "\n",
        "This suppplementary labshoot investigates the bump sensors mounted on the front of the 3Pi+ mobile robot.  This labsheet should be relatively straight-forward because you will have completed the Line Sensor labsheet.  Because this is a supplementary labsheet, you are expected to use your own initiative and critical thinking to solve problems and conduct investigations.\n",
        "\n",
        "\n",
        "\n",
        "\n",
        "\n",
        "\n"
      ]
    },
    {
      "cell_type": "markdown",
      "metadata": {
        "id": "krVl33vMUFAt"
      },
      "source": [
        "# Bump Sensor Characteristics\n",
        "\n",
        "The bump sensors operate in the same manner as the line sensors, with a few minor operational differences.  However, instead of measuring `infra-red` (IR) light reflected from the ground surface, reflected IR light is measured off the two flexible plastic segments (bumpers) at the front of the 3Pi+ robot. As these plastic segments are depressed against the 3Pi+ body, the quantity of reflected light reduces.\n",
        "\n",
        "<p align=\"center\">\n",
        "<img width=\"75%\" src=\"https://github.com/paulodowd/EMATM0053_21_22/blob/main/images/3PI_BumpPlot.png?raw=true\">\n",
        "</p>\n",
        "\n",
        "The above plot shows example readings from the two bump sensors on a 3Pi+.  The characteristics of your bump sensors will vary.  It is important to note that in the above plot, we can clearly see that the two sensors perform very differently.  On the plot, a green dotted line marks where both sensors have been depressed fully (against the 3Pi+ body).  Despite both bump sensors having roughly the same range of motion, and the same electronic parts, we can see that the timing characteristics are very different.  \n",
        "\n",
        "<p align=\"center\">\n",
        "<img width=\"50%\" src=\"https://github.com/paulodowd/EMATM0053_21_22/blob/main/images/3PI_BumpAmbientInterference.png?raw=true\">\n",
        "</p>\n",
        "\n",
        "In the above plot, the 3Pi+ was rotated 360&deg; without any contact on the bump sensors.  The variation in the timing characterstic for both bump sensors varies with a period.  This is because the data was collected in an `environment` with windows to one side of the room.  "
      ]
    },
    {
      "cell_type": "markdown",
      "metadata": {
        "id": "BraxBLMCQKIY"
      },
      "source": [
        "## Exercise 1: Adapt "
      ]
    }
  ]
}